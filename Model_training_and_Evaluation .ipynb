{
 "cells": [
  {
   "cell_type": "markdown",
   "metadata": {},
   "source": [
    "## Model Selection and Training on Train Data"
   ]
  },
  {
   "cell_type": "markdown",
   "metadata": {},
   "source": [
    "### Importing Required Libraries "
   ]
  },
  {
   "cell_type": "code",
   "execution_count": 2,
   "metadata": {},
   "outputs": [],
   "source": [
    "import pandas as pd\n",
    "from sklearn.model_selection import train_test_split\n",
    "from sklearn.linear_model import LogisticRegression\n",
    "from sklearn.tree import DecisionTreeClassifier\n",
    "from sklearn.metrics import classification_report\n",
    "from sklearn.ensemble import RandomForestClassifier, GradientBoostingClassifier\n",
    "from xgboost import XGBClassifier\n",
    "from lightgbm import LGBMClassifier\n",
    "from imblearn.over_sampling import SMOTE\n",
    "from sklearn.model_selection import RandomizedSearchCV\n",
    "import shap"
   ]
  },
  {
   "cell_type": "markdown",
   "metadata": {},
   "source": [
    "#### Importing Processed train data"
   ]
  },
  {
   "cell_type": "code",
   "execution_count": 3,
   "metadata": {},
   "outputs": [
    {
     "data": {
      "text/html": [
       "<div>\n",
       "<style scoped>\n",
       "    .dataframe tbody tr th:only-of-type {\n",
       "        vertical-align: middle;\n",
       "    }\n",
       "\n",
       "    .dataframe tbody tr th {\n",
       "        vertical-align: top;\n",
       "    }\n",
       "\n",
       "    .dataframe thead th {\n",
       "        text-align: right;\n",
       "    }\n",
       "</style>\n",
       "<table border=\"1\" class=\"dataframe\">\n",
       "  <thead>\n",
       "    <tr style=\"text-align: right;\">\n",
       "      <th></th>\n",
       "      <th>Id</th>\n",
       "      <th>OrgId</th>\n",
       "      <th>IncidentId</th>\n",
       "      <th>AlertId</th>\n",
       "      <th>DetectorId</th>\n",
       "      <th>AlertTitle</th>\n",
       "      <th>Category</th>\n",
       "      <th>IncidentGrade</th>\n",
       "      <th>EntityType</th>\n",
       "      <th>EvidenceRole</th>\n",
       "      <th>IpAddress</th>\n",
       "      <th>Url</th>\n",
       "      <th>AccountName</th>\n",
       "      <th>DeviceName</th>\n",
       "      <th>NetworkMessageId</th>\n",
       "      <th>RegistryKey</th>\n",
       "      <th>RegistryValueData</th>\n",
       "      <th>ApplicationName</th>\n",
       "      <th>OAuthApplicationId</th>\n",
       "      <th>FileName</th>\n",
       "      <th>ResourceIdName</th>\n",
       "      <th>OSVersion</th>\n",
       "      <th>City</th>\n",
       "      <th>Day</th>\n",
       "      <th>Year</th>\n",
       "      <th>Hour</th>\n",
       "      <th>Time</th>\n",
       "    </tr>\n",
       "  </thead>\n",
       "  <tbody>\n",
       "    <tr>\n",
       "      <th>0</th>\n",
       "      <td>1709396985476</td>\n",
       "      <td>26</td>\n",
       "      <td>18583</td>\n",
       "      <td>687462</td>\n",
       "      <td>31</td>\n",
       "      <td>813</td>\n",
       "      <td>12</td>\n",
       "      <td>0</td>\n",
       "      <td>9</td>\n",
       "      <td>1</td>\n",
       "      <td>360606</td>\n",
       "      <td>160396</td>\n",
       "      <td>453297</td>\n",
       "      <td>153085</td>\n",
       "      <td>529644</td>\n",
       "      <td>1631</td>\n",
       "      <td>860</td>\n",
       "      <td>3421</td>\n",
       "      <td>881</td>\n",
       "      <td>4132</td>\n",
       "      <td>3586</td>\n",
       "      <td>66</td>\n",
       "      <td>10630</td>\n",
       "      <td>6</td>\n",
       "      <td>2024</td>\n",
       "      <td>5</td>\n",
       "      <td>21407</td>\n",
       "    </tr>\n",
       "    <tr>\n",
       "      <th>1</th>\n",
       "      <td>927712939180</td>\n",
       "      <td>33</td>\n",
       "      <td>5065</td>\n",
       "      <td>3990</td>\n",
       "      <td>38</td>\n",
       "      <td>25</td>\n",
       "      <td>9</td>\n",
       "      <td>0</td>\n",
       "      <td>17</td>\n",
       "      <td>0</td>\n",
       "      <td>360606</td>\n",
       "      <td>160396</td>\n",
       "      <td>453297</td>\n",
       "      <td>3142</td>\n",
       "      <td>529644</td>\n",
       "      <td>1631</td>\n",
       "      <td>860</td>\n",
       "      <td>3421</td>\n",
       "      <td>881</td>\n",
       "      <td>289573</td>\n",
       "      <td>3586</td>\n",
       "      <td>66</td>\n",
       "      <td>10630</td>\n",
       "      <td>3</td>\n",
       "      <td>2024</td>\n",
       "      <td>10</td>\n",
       "      <td>38709</td>\n",
       "    </tr>\n",
       "    <tr>\n",
       "      <th>2</th>\n",
       "      <td>1090921697002</td>\n",
       "      <td>201</td>\n",
       "      <td>150787</td>\n",
       "      <td>807590</td>\n",
       "      <td>419</td>\n",
       "      <td>444</td>\n",
       "      <td>6</td>\n",
       "      <td>0</td>\n",
       "      <td>17</td>\n",
       "      <td>0</td>\n",
       "      <td>360606</td>\n",
       "      <td>160396</td>\n",
       "      <td>453297</td>\n",
       "      <td>4181</td>\n",
       "      <td>529644</td>\n",
       "      <td>1631</td>\n",
       "      <td>860</td>\n",
       "      <td>3421</td>\n",
       "      <td>881</td>\n",
       "      <td>289573</td>\n",
       "      <td>3586</td>\n",
       "      <td>66</td>\n",
       "      <td>10630</td>\n",
       "      <td>13</td>\n",
       "      <td>2024</td>\n",
       "      <td>3</td>\n",
       "      <td>13000</td>\n",
       "    </tr>\n",
       "    <tr>\n",
       "      <th>3</th>\n",
       "      <td>1434519079555</td>\n",
       "      <td>204</td>\n",
       "      <td>108287</td>\n",
       "      <td>28575</td>\n",
       "      <td>44</td>\n",
       "      <td>1233</td>\n",
       "      <td>16</td>\n",
       "      <td>2</td>\n",
       "      <td>9</td>\n",
       "      <td>1</td>\n",
       "      <td>360606</td>\n",
       "      <td>160396</td>\n",
       "      <td>453297</td>\n",
       "      <td>153085</td>\n",
       "      <td>529644</td>\n",
       "      <td>1631</td>\n",
       "      <td>860</td>\n",
       "      <td>3421</td>\n",
       "      <td>881</td>\n",
       "      <td>97007</td>\n",
       "      <td>3586</td>\n",
       "      <td>66</td>\n",
       "      <td>10630</td>\n",
       "      <td>8</td>\n",
       "      <td>2024</td>\n",
       "      <td>16</td>\n",
       "      <td>60897</td>\n",
       "    </tr>\n",
       "    <tr>\n",
       "      <th>4</th>\n",
       "      <td>1005022347708</td>\n",
       "      <td>54</td>\n",
       "      <td>528202</td>\n",
       "      <td>1458226</td>\n",
       "      <td>102</td>\n",
       "      <td>58829</td>\n",
       "      <td>7</td>\n",
       "      <td>0</td>\n",
       "      <td>9</td>\n",
       "      <td>0</td>\n",
       "      <td>360606</td>\n",
       "      <td>160396</td>\n",
       "      <td>453297</td>\n",
       "      <td>153085</td>\n",
       "      <td>529644</td>\n",
       "      <td>1631</td>\n",
       "      <td>860</td>\n",
       "      <td>3421</td>\n",
       "      <td>881</td>\n",
       "      <td>39978</td>\n",
       "      <td>3586</td>\n",
       "      <td>66</td>\n",
       "      <td>10630</td>\n",
       "      <td>9</td>\n",
       "      <td>2024</td>\n",
       "      <td>2</td>\n",
       "      <td>10081</td>\n",
       "    </tr>\n",
       "  </tbody>\n",
       "</table>\n",
       "</div>"
      ],
      "text/plain": [
       "              Id  OrgId  IncidentId  AlertId  DetectorId  AlertTitle  \\\n",
       "0  1709396985476     26       18583   687462          31         813   \n",
       "1   927712939180     33        5065     3990          38          25   \n",
       "2  1090921697002    201      150787   807590         419         444   \n",
       "3  1434519079555    204      108287    28575          44        1233   \n",
       "4  1005022347708     54      528202  1458226         102       58829   \n",
       "\n",
       "   Category  IncidentGrade  EntityType  EvidenceRole  IpAddress     Url  \\\n",
       "0        12              0           9             1     360606  160396   \n",
       "1         9              0          17             0     360606  160396   \n",
       "2         6              0          17             0     360606  160396   \n",
       "3        16              2           9             1     360606  160396   \n",
       "4         7              0           9             0     360606  160396   \n",
       "\n",
       "   AccountName  DeviceName  NetworkMessageId  RegistryKey  RegistryValueData  \\\n",
       "0       453297      153085            529644         1631                860   \n",
       "1       453297        3142            529644         1631                860   \n",
       "2       453297        4181            529644         1631                860   \n",
       "3       453297      153085            529644         1631                860   \n",
       "4       453297      153085            529644         1631                860   \n",
       "\n",
       "   ApplicationName  OAuthApplicationId  FileName  ResourceIdName  OSVersion  \\\n",
       "0             3421                 881      4132            3586         66   \n",
       "1             3421                 881    289573            3586         66   \n",
       "2             3421                 881    289573            3586         66   \n",
       "3             3421                 881     97007            3586         66   \n",
       "4             3421                 881     39978            3586         66   \n",
       "\n",
       "    City  Day  Year  Hour   Time  \n",
       "0  10630    6  2024     5  21407  \n",
       "1  10630    3  2024    10  38709  \n",
       "2  10630   13  2024     3  13000  \n",
       "3  10630    8  2024    16  60897  \n",
       "4  10630    9  2024     2  10081  "
      ]
     },
     "execution_count": 3,
     "metadata": {},
     "output_type": "execute_result"
    }
   ],
   "source": [
    "#importing processed train data\n",
    "traindata = pd.read_csv('traindata_processed.csv')\n",
    "pd.set_option('display.max_columns', None)\n",
    "traindata.head()"
   ]
  },
  {
   "cell_type": "code",
   "execution_count": 4,
   "metadata": {},
   "outputs": [
    {
     "data": {
      "text/plain": [
       "(4577400, 27)"
      ]
     },
     "execution_count": 4,
     "metadata": {},
     "output_type": "execute_result"
    }
   ],
   "source": [
    "traindata.shape"
   ]
  },
  {
   "cell_type": "markdown",
   "metadata": {},
   "source": [
    "#### Defining features (X) and target (y)"
   ]
  },
  {
   "cell_type": "code",
   "execution_count": 5,
   "metadata": {},
   "outputs": [],
   "source": [
    "X = traindata.drop(columns=['IncidentGrade','Id'])  \n",
    "y = traindata['IncidentGrade']                 # Target column"
   ]
  },
  {
   "cell_type": "code",
   "execution_count": 6,
   "metadata": {},
   "outputs": [],
   "source": [
    "# Stratified train-validation split\n",
    "X_train, X_val, y_train, y_val = train_test_split(X, y, test_size=0.3, stratify=y, random_state=42)"
   ]
  },
  {
   "cell_type": "code",
   "execution_count": 7,
   "metadata": {},
   "outputs": [
    {
     "name": "stdout",
     "output_type": "stream",
     "text": [
      "Training set class distribution:\n",
      " IncidentGrade\n",
      "0    0.431237\n",
      "2    0.351500\n",
      "1    0.217263\n",
      "Name: proportion, dtype: float64\n",
      "Validation set class distribution:\n",
      " IncidentGrade\n",
      "0    0.431237\n",
      "2    0.351500\n",
      "1    0.217263\n",
      "Name: proportion, dtype: float64\n"
     ]
    }
   ],
   "source": [
    "# Checking class distribution in training and validation sets\n",
    "print(\"Training set class distribution:\\n\", y_train.value_counts(normalize=True))\n",
    "print(\"Validation set class distribution:\\n\", y_val.value_counts(normalize=True))"
   ]
  },
  {
   "cell_type": "markdown",
   "metadata": {},
   "source": [
    "## Model Selection and Training:"
   ]
  },
  {
   "cell_type": "markdown",
   "metadata": {},
   "source": [
    "### Baseline Models"
   ]
  },
  {
   "cell_type": "code",
   "execution_count": 7,
   "metadata": {},
   "outputs": [
    {
     "name": "stdout",
     "output_type": "stream",
     "text": [
      "\n",
      "Training Logistic Regression...\n"
     ]
    },
    {
     "name": "stderr",
     "output_type": "stream",
     "text": [
      "lbfgs failed to converge (status=1):\n",
      "STOP: TOTAL NO. of ITERATIONS REACHED LIMIT.\n",
      "\n",
      "Increase the number of iterations (max_iter) or scale the data as shown in:\n",
      "    https://scikit-learn.org/stable/modules/preprocessing.html\n",
      "Please also refer to the documentation for alternative solver options:\n",
      "    https://scikit-learn.org/stable/modules/linear_model.html#logistic-regression\n"
     ]
    },
    {
     "name": "stdout",
     "output_type": "stream",
     "text": [
      "Logistic Regression Classification Report:\n",
      "               precision    recall  f1-score   support\n",
      "\n",
      "     Class 0       0.60      0.45      0.52    592183\n",
      "     Class 1       0.34      0.33      0.33    298350\n",
      "     Class 2       0.52      0.69      0.60    482687\n",
      "\n",
      "    accuracy                           0.51   1373220\n",
      "   macro avg       0.49      0.49      0.48   1373220\n",
      "weighted avg       0.52      0.51      0.51   1373220\n",
      "\n",
      "\n",
      "Training Decision Tree...\n",
      "Decision Tree Classification Report:\n",
      "               precision    recall  f1-score   support\n",
      "\n",
      "     Class 0       0.99      0.99      0.99    592183\n",
      "     Class 1       0.98      0.98      0.98    298350\n",
      "     Class 2       0.99      0.99      0.99    482687\n",
      "\n",
      "    accuracy                           0.99   1373220\n",
      "   macro avg       0.99      0.99      0.99   1373220\n",
      "weighted avg       0.99      0.99      0.99   1373220\n",
      "\n"
     ]
    }
   ],
   "source": [
    "# Baseline Models\n",
    "baseline_models = {\n",
    "    'Logistic Regression': LogisticRegression(class_weight='balanced', random_state=42),\n",
    "    'Decision Tree': DecisionTreeClassifier(class_weight='balanced', random_state=42)\n",
    "}\n",
    "\n",
    "# Training and evaluation on validation set\n",
    "for name, model in baseline_models.items():\n",
    "    print(f\"\\nTraining {name}...\")\n",
    "    model.fit(X_train, y_train)\n",
    "    y_pred = model.predict(X_val)\n",
    "    print(f\"{name} Classification Report:\\n\", classification_report(y_val, y_pred, target_names=['Class 0', 'Class 1', 'Class 2']))\n"
   ]
  },
  {
   "cell_type": "markdown",
   "metadata": {},
   "source": [
    "### Advanced Models"
   ]
  },
  {
   "cell_type": "code",
   "execution_count": 11,
   "metadata": {},
   "outputs": [
    {
     "name": "stdout",
     "output_type": "stream",
     "text": [
      "\n",
      "Training Random Forest...\n",
      "Random Forest Classification Report:\n",
      "               precision    recall  f1-score   support\n",
      "\n",
      "     Class 0       0.97      0.99      0.98    592183\n",
      "     Class 1       0.98      0.96      0.97    298350\n",
      "     Class 2       0.99      0.97      0.98    482687\n",
      "\n",
      "    accuracy                           0.98   1373220\n",
      "   macro avg       0.98      0.97      0.98   1373220\n",
      "weighted avg       0.98      0.98      0.98   1373220\n",
      "\n",
      "\n",
      "Training Gradient Boosting...\n",
      "Gradient Boosting Classification Report:\n",
      "               precision    recall  f1-score   support\n",
      "\n",
      "     Class 0       0.72      0.95      0.82    592183\n",
      "     Class 1       0.88      0.58      0.70    298350\n",
      "     Class 2       0.92      0.75      0.83    482687\n",
      "\n",
      "    accuracy                           0.80   1373220\n",
      "   macro avg       0.84      0.76      0.78   1373220\n",
      "weighted avg       0.83      0.80      0.80   1373220\n",
      "\n",
      "\n",
      "Training XGBoost...\n"
     ]
    },
    {
     "name": "stderr",
     "output_type": "stream",
     "text": [
      "[21:57:53] WARNING: C:\\buildkite-agent\\builds\\buildkite-windows-cpu-autoscaling-group-i-0015a694724fa8361-1\\xgboost\\xgboost-ci-windows\\src\\common\\error_msg.cc:27: The tree method `gpu_hist` is deprecated since 2.0.0. To use GPU training, set the `device` parameter to CUDA instead.\n",
      "\n",
      "    E.g. tree_method = \"hist\", device = \"cuda\"\n",
      "\n",
      "[21:57:53] WARNING: C:\\buildkite-agent\\builds\\buildkite-windows-cpu-autoscaling-group-i-0015a694724fa8361-1\\xgboost\\xgboost-ci-windows\\src\\learner.cc:740: \n",
      "Parameters: { \"predictor\", \"scale_pos_weight\" } are not used.\n",
      "\n",
      "[21:58:04] WARNING: C:\\buildkite-agent\\builds\\buildkite-windows-cpu-autoscaling-group-i-0015a694724fa8361-1\\xgboost\\xgboost-ci-windows\\src\\common\\error_msg.cc:27: The tree method `gpu_hist` is deprecated since 2.0.0. To use GPU training, set the `device` parameter to CUDA instead.\n",
      "\n",
      "    E.g. tree_method = \"hist\", device = \"cuda\"\n",
      "\n",
      "[21:58:04] WARNING: C:\\buildkite-agent\\builds\\buildkite-windows-cpu-autoscaling-group-i-0015a694724fa8361-1\\xgboost\\xgboost-ci-windows\\src\\common\\error_msg.cc:58: Falling back to prediction using DMatrix due to mismatched devices. This might lead to higher memory usage and slower performance. XGBoost is running on: cuda:0, while the input data is on: cpu.\n",
      "Potential solutions:\n",
      "- Use a data structure that matches the device ordinal in the booster.\n",
      "- Set the device for booster before call to inplace_predict.\n",
      "\n",
      "This warning will only be shown once.\n",
      "\n"
     ]
    },
    {
     "name": "stdout",
     "output_type": "stream",
     "text": [
      "XGBoost Classification Report:\n",
      "               precision    recall  f1-score   support\n",
      "\n",
      "     Class 0       0.89      0.96      0.92    592183\n",
      "     Class 1       0.93      0.85      0.89    298350\n",
      "     Class 2       0.95      0.91      0.93    482687\n",
      "\n",
      "    accuracy                           0.92   1373220\n",
      "   macro avg       0.92      0.91      0.91   1373220\n",
      "weighted avg       0.92      0.92      0.92   1373220\n",
      "\n",
      "\n",
      "Training LightGBM...\n",
      "[LightGBM] [Info] This is the GPU trainer!!\n",
      "[LightGBM] [Info] Total Bins 3642\n",
      "[LightGBM] [Info] Number of data points in the train set: 3204180, number of used features: 25\n",
      "[LightGBM] [Info] Using GPU Device: NVIDIA GeForce GTX 1650 Ti, Vendor: NVIDIA Corporation\n",
      "[LightGBM] [Info] Compiling OpenCL Kernel with 256 bins...\n",
      "[LightGBM] [Info] GPU programs have been built\n",
      "[LightGBM] [Info] Size of histogram bin entry: 8\n",
      "[LightGBM] [Info] 11 dense feature groups (36.67 MB) transferred to GPU in 0.057765 secs. 1 sparse feature groups\n",
      "[LightGBM] [Info] Start training from score -1.098612\n",
      "[LightGBM] [Info] Start training from score -1.098612\n",
      "[LightGBM] [Info] Start training from score -1.098612\n",
      "LightGBM Classification Report:\n",
      "               precision    recall  f1-score   support\n",
      "\n",
      "     Class 0       0.92      0.90      0.91    592183\n",
      "     Class 1       0.80      0.91      0.85    298350\n",
      "     Class 2       0.95      0.88      0.91    482687\n",
      "\n",
      "    accuracy                           0.90   1373220\n",
      "   macro avg       0.89      0.90      0.89   1373220\n",
      "weighted avg       0.90      0.90      0.90   1373220\n",
      "\n"
     ]
    }
   ],
   "source": [
    "# Advanced models\n",
    "advanced_models = {\n",
    "    'Random Forest': RandomForestClassifier(class_weight='balanced', random_state=42),\n",
    "    'Gradient Boosting': GradientBoostingClassifier(random_state=42)}\n",
    "\n",
    "# Additional libraries for XGBoost and LightGBM\n",
    "try:\n",
    "    advanced_models['XGBoost'] = XGBClassifier(scale_pos_weight=1, random_state=42,\n",
    "                                                   tree_method='gpu_hist',  # Enable GPU\n",
    "                                                    predictor='gpu_predictor')  # Use GPU for predictions\n",
    "except ImportError:\n",
    "    print(\"XGBoost not installed.\")\n",
    "    \n",
    "try:\n",
    "    advanced_models['LightGBM'] = LGBMClassifier(class_weight='balanced', random_state=42,device='gpu')  # Use GPU\n",
    "except ImportError:\n",
    "    print(\"LightGBM not installed.\")\n",
    "\n",
    "# Training and evaluation for advanced models\n",
    "for name, model in advanced_models.items():\n",
    "    print(f\"\\nTraining {name}...\")\n",
    "    model.fit(X_train, y_train)\n",
    "    y_pred = model.predict(X_val)\n",
    "    print(f\"{name} Classification Report:\\n\", classification_report(y_val, y_pred, target_names=['Class 0', 'Class 1', 'Class 2']))\n"
   ]
  },
  {
   "cell_type": "markdown",
   "metadata": {},
   "source": [
    "### Model Selection"
   ]
  },
  {
   "cell_type": "markdown",
   "metadata": {},
   "source": [
    "### Baseline Models:\n",
    "\n",
    "#### Logistic Regression:\n",
    "Struggles with class imbalance, leading to a low macro-F1 score (0.48).\n",
    "Precision and recall vary significantly across classes, indicating that it's not well-suited for this problem.\n",
    "\n",
    "#### Decision Tree:\n",
    "Perfect scores suggest overfitting, especially given the high accuracy (0.99) on the training set. \n",
    "\n",
    "### Advanced Models:\n",
    "\n",
    "#### Random Forest:\n",
    "Achieves excellent macro-F1 (0.98), precision, and recall, suggesting it generalizes well. Likely robust due to ensemble averaging.\n",
    "\n",
    "#### Gradient Boosting:\n",
    "Balanced performance (macro-F1: 0.78), but lower than Random Forest and XGBoost.\n",
    " \n",
    "#### XGBoost:\n",
    "Best macro-F1 score (0.91) among all models.\n",
    "Good balance across precision, recall, and F1 scores for all classes, indicating strong handling of class imbalance.\n",
    "\n",
    "\n",
    "#### LightGBM:\n",
    "Strong results (macro-F1: 0.89), slightly underperforming compared to XGBoost.\n",
    "More efficient training but lower precision and recall for Class 0 compared to XGBoost."
   ]
  },
  {
   "cell_type": "markdown",
   "metadata": {},
   "source": [
    "### Based on these results, we proceed with XGBoost as the final model since it shows the best overall performance. \n",
    "\n",
    "### XGBoost has the best macro F1-score (0.91) with balanced performance. But we can see Class Imbalance so using SMOTE\n",
    "\n",
    "### Taking Only 20% of the training data for computational efficeincy \n"
   ]
  },
  {
   "cell_type": "code",
   "execution_count": 12,
   "metadata": {},
   "outputs": [],
   "source": [
    "# Sample 20% of the training data\n",
    "X_train_sample = X_train.sample(frac=0.2, random_state=42)\n",
    "y_train_sample = y_train.loc[X_train_sample.index]"
   ]
  },
  {
   "cell_type": "code",
   "execution_count": 13,
   "metadata": {},
   "outputs": [
    {
     "name": "stdout",
     "output_type": "stream",
     "text": [
      "Original Training Data Size: (3204180, 25)\n",
      "Sampled Training Data Size: (640836, 25)\n"
     ]
    }
   ],
   "source": [
    "# Check the sizes\n",
    "print(\"Original Training Data Size:\", X_train.shape)\n",
    "print(\"Sampled Training Data Size:\", X_train_sample.shape)"
   ]
  },
  {
   "cell_type": "markdown",
   "metadata": {},
   "source": [
    "### SMOTE "
   ]
  },
  {
   "cell_type": "code",
   "execution_count": 14,
   "metadata": {},
   "outputs": [],
   "source": [
    "# Applying SMOTE to the training data\n",
    "smote = SMOTE(random_state=42)\n",
    "X_train_smote, y_train_smote = smote.fit_resample(X_train_sample, y_train_sample)"
   ]
  },
  {
   "cell_type": "code",
   "execution_count": 15,
   "metadata": {},
   "outputs": [
    {
     "name": "stdout",
     "output_type": "stream",
     "text": [
      "Original class distribution:\n",
      " IncidentGrade\n",
      "0    276464\n",
      "2    225252\n",
      "1    139120\n",
      "Name: count, dtype: int64\n",
      "After SMOTE class distribution:\n",
      " IncidentGrade\n",
      "2    276464\n",
      "0    276464\n",
      "1    276464\n",
      "Name: count, dtype: int64\n"
     ]
    }
   ],
   "source": [
    "# Checking the new class distribution\n",
    "print(\"Original class distribution:\\n\", y_train_sample.value_counts())\n",
    "print(\"After SMOTE class distribution:\\n\", y_train_smote.value_counts())"
   ]
  },
  {
   "cell_type": "markdown",
   "metadata": {},
   "source": [
    "### Training XGB model on class balanced data"
   ]
  },
  {
   "cell_type": "code",
   "execution_count": 16,
   "metadata": {},
   "outputs": [
    {
     "name": "stdout",
     "output_type": "stream",
     "text": [
      "Validation Set Classification Report (After SMOTE):\n",
      "              precision    recall  f1-score   support\n",
      "\n",
      "     Class 0       0.92      0.92      0.92    592183\n",
      "     Class 1       0.83      0.90      0.86    298350\n",
      "     Class 2       0.95      0.90      0.92    482687\n",
      "\n",
      "    accuracy                           0.91   1373220\n",
      "   macro avg       0.90      0.90      0.90   1373220\n",
      "weighted avg       0.91      0.91      0.91   1373220\n",
      "\n"
     ]
    }
   ],
   "source": [
    "# Training the XGBoost model\n",
    "xgb = XGBClassifier(random_state=42,tree_method='hist',device='cuda')      \n",
    "xgb.fit(X_train_smote, y_train_smote)\n",
    "\n",
    "# Prediction on the validation set\n",
    "y_val_pred = xgb.predict(X_val)\n",
    "\n",
    "# Evaluate performance\n",
    "print(\"Validation Set Classification Report (After SMOTE):\")\n",
    "print(classification_report(y_val, y_val_pred, target_names=['Class 0', 'Class 1', 'Class 2']))"
   ]
  },
  {
   "cell_type": "markdown",
   "metadata": {},
   "source": [
    "### SHAP Analysis for Feature Importance"
   ]
  },
  {
   "cell_type": "code",
   "execution_count": 16,
   "metadata": {},
   "outputs": [],
   "source": [
    "# Initialize the SHAP explainer\n",
    "explainer = shap.TreeExplainer(xgb)\n",
    "shap_values = explainer.shap_values(X_val)"
   ]
  },
  {
   "cell_type": "code",
   "execution_count": 17,
   "metadata": {},
   "outputs": [
    {
     "data": {
      "image/png": "[encoded data removed]",
      "text/plain": [
       "<Figure size 576x684 with 1 Axes>"
      ]
     },
     "metadata": {
      "needs_background": "light"
     },
     "output_type": "display_data"
    }
   ],
   "source": [
    "# Summary plot for feature importance\n",
    "shap.summary_plot(shap_values, X_val, feature_names=X_val.columns)"
   ]
  },
  {
   "cell_type": "code",
   "execution_count": 18,
   "metadata": {},
   "outputs": [],
   "source": [
    "# Defining top 11 features based on SHAP\n",
    "top_11_features = ['OrgId', 'IncidentId', 'AlertTitle', 'DetectorId', \n",
    "                   'AlertId', 'Category', 'Hour', 'Time', 'Day', 'EntityType', 'City']\n"
   ]
  },
  {
   "cell_type": "code",
   "execution_count": 19,
   "metadata": {},
   "outputs": [],
   "source": [
    "# Filter datasets for top 11 features\n",
    "X_train_top11 = X_train_smote[top_11_features]\n",
    "X_val_top11 = X_val[top_11_features]"
   ]
  },
  {
   "cell_type": "code",
   "execution_count": 20,
   "metadata": {},
   "outputs": [
    {
     "name": "stdout",
     "output_type": "stream",
     "text": [
      "Shape of training set with top features: (829392, 11)\n",
      "Shape of validation set with top features: (1373220, 11)\n"
     ]
    }
   ],
   "source": [
    "# Verify shapes\n",
    "print(\"Shape of training set with top features:\", X_train_top11.shape)\n",
    "print(\"Shape of validation set with top features:\", X_val_top11.shape)"
   ]
  },
  {
   "cell_type": "markdown",
   "metadata": {},
   "source": [
    "### Training XGB with only top 11 features"
   ]
  },
  {
   "cell_type": "code",
   "execution_count": 22,
   "metadata": {},
   "outputs": [
    {
     "name": "stdout",
     "output_type": "stream",
     "text": [
      "Validation Set Classification Report (Top 11 Features):\n",
      "              precision    recall  f1-score   support\n",
      "\n",
      "     Class 0       0.92      0.92      0.92    592183\n",
      "     Class 1       0.84      0.90      0.87    298350\n",
      "     Class 2       0.95      0.91      0.93    482687\n",
      "\n",
      "    accuracy                           0.91   1373220\n",
      "   macro avg       0.90      0.91      0.90   1373220\n",
      "weighted avg       0.91      0.91      0.91   1373220\n",
      "\n"
     ]
    }
   ],
   "source": [
    "# Train the XGBoost model with top features\n",
    "xgb_top11 = XGBClassifier(random_state=42,tree_method='hist',device='cuda')\n",
    "xgb_top11.fit(X_train_top11, y_train_smote)\n",
    "\n",
    "# Predict on the validation set\n",
    "y_val_pred_top11 = xgb_top11.predict(X_val_top11)\n",
    "\n",
    "# Evaluate performance\n",
    "\n",
    "print(\"Validation Set Classification Report (Top 11 Features):\")\n",
    "print(classification_report(y_val, y_val_pred_top11, target_names=['Class 0', 'Class 1', 'Class 2']))\n"
   ]
  },
  {
   "cell_type": "markdown",
   "metadata": {},
   "source": [
    "#### we absorve that the model with 11 features was computationally efficient and produces better scores than model  with all features"
   ]
  },
  {
   "cell_type": "markdown",
   "metadata": {},
   "source": [
    "## Hyperparameter Tuning"
   ]
  },
  {
   "cell_type": "code",
   "execution_count": 23,
   "metadata": {},
   "outputs": [
    {
     "name": "stdout",
     "output_type": "stream",
     "text": [
      "Fitting 3 folds for each of 20 candidates, totalling 60 fits\n"
     ]
    },
    {
     "name": "stderr",
     "output_type": "stream",
     "text": [
      "[22:38:29] WARNING: C:\\buildkite-agent\\builds\\buildkite-windows-cpu-autoscaling-group-i-0015a694724fa8361-1\\xgboost\\xgboost-ci-windows\\src\\learner.cc:740: \n",
      "Parameters: { \"scale_pos_weight\" } are not used.\n",
      "\n"
     ]
    },
    {
     "name": "stdout",
     "output_type": "stream",
     "text": [
      "Best Parameters: {'subsample': 0.8, 'scale_pos_weight': 1, 'n_estimators': 200, 'max_depth': 7, 'learning_rate': 0.2, 'colsample_bytree': 0.8}\n",
      "Validation Set Classification Report (Tuned Top 11 Features):\n",
      "              precision    recall  f1-score   support\n",
      "\n",
      "     Class 0       0.94      0.94      0.94    592183\n",
      "     Class 1       0.88      0.92      0.90    298350\n",
      "     Class 2       0.96      0.93      0.94    482687\n",
      "\n",
      "    accuracy                           0.93   1373220\n",
      "   macro avg       0.93      0.93      0.93   1373220\n",
      "weighted avg       0.93      0.93      0.93   1373220\n",
      "\n"
     ]
    }
   ],
   "source": [
    "# Define hyperparameter grid\n",
    "param_distributions = {\n",
    "    'max_depth': [3, 5, 7],\n",
    "    'n_estimators': [100, 200],\n",
    "    'learning_rate': [0.01, 0.1, 0.2],\n",
    "    'subsample': [0.8, 1.0],\n",
    "    'colsample_bytree': [0.8, 1.0],\n",
    "    'scale_pos_weight': [1, 2, 3]  # To address class imbalance further\n",
    "}\n",
    "\n",
    "# Randomized search with GPU support\n",
    "random_search_top11 = RandomizedSearchCV(\n",
    "    estimator=XGBClassifier(\n",
    "        random_state=42,\n",
    "        tree_method='hist',  # Enable GPU support\n",
    "        device='cuda'  # Use GPU for predictions\n",
    "    ),\n",
    "    param_distributions=param_distributions,\n",
    "    scoring='f1_macro',  # Scoring metric\n",
    "    cv=3,\n",
    "    n_iter=20,  # Number of random combinations\n",
    "    verbose=1,\n",
    "    n_jobs=-1  # Parallel processing\n",
    ")\n",
    "\n",
    "# Perform hyperparameter tuning\n",
    "random_search_top11.fit(X_train_top11, y_train_smote)\n",
    "\n",
    "# Get the best model\n",
    "best_xgb_top11 = random_search_top11.best_estimator_\n",
    "print(\"Best Parameters:\", random_search_top11.best_params_)\n",
    "\n",
    "# Evaluate on validation set\n",
    "y_val_pred_best_top11 = best_xgb_top11.predict(X_val_top11)\n",
    "print(\"Validation Set Classification Report (Tuned Top 11 Features):\")\n",
    "print(classification_report(y_val, y_val_pred_best_top11, target_names=['Class 0', 'Class 1', 'Class 2']))\n"
   ]
  },
  {
   "cell_type": "markdown",
   "metadata": {},
   "source": [
    "### The hyperparameter tuned model gives best scores. Saving the model."
   ]
  },
  {
   "cell_type": "code",
   "execution_count": 24,
   "metadata": {},
   "outputs": [
    {
     "name": "stdout",
     "output_type": "stream",
     "text": [
      "Model saved as best_xgboost_Classification_model_SMOTE.pkl\n"
     ]
    }
   ],
   "source": [
    "import joblib\n",
    "\n",
    "# Save the model\n",
    "joblib.dump(best_xgb_top11, 'best_xgboost_Classification_model_SMOTE.pkl')\n",
    "print(\"Model saved as best_xgboost_Classification_model_SMOTE.pkl\")"
   ]
  },
  {
   "cell_type": "markdown",
   "metadata": {},
   "source": [
    "## Final Evaluation on Test Set"
   ]
  },
  {
   "cell_type": "code",
   "execution_count": 25,
   "metadata": {},
   "outputs": [
    {
     "data": {
      "text/html": [
       "<div>\n",
       "<style scoped>\n",
       "    .dataframe tbody tr th:only-of-type {\n",
       "        vertical-align: middle;\n",
       "    }\n",
       "\n",
       "    .dataframe tbody tr th {\n",
       "        vertical-align: top;\n",
       "    }\n",
       "\n",
       "    .dataframe thead th {\n",
       "        text-align: right;\n",
       "    }\n",
       "</style>\n",
       "<table border=\"1\" class=\"dataframe\">\n",
       "  <thead>\n",
       "    <tr style=\"text-align: right;\">\n",
       "      <th></th>\n",
       "      <th>Id</th>\n",
       "      <th>OrgId</th>\n",
       "      <th>IncidentId</th>\n",
       "      <th>AlertId</th>\n",
       "      <th>DetectorId</th>\n",
       "      <th>AlertTitle</th>\n",
       "      <th>Category</th>\n",
       "      <th>IncidentGrade</th>\n",
       "      <th>EntityType</th>\n",
       "      <th>EvidenceRole</th>\n",
       "      <th>IpAddress</th>\n",
       "      <th>Url</th>\n",
       "      <th>AccountName</th>\n",
       "      <th>DeviceName</th>\n",
       "      <th>NetworkMessageId</th>\n",
       "      <th>RegistryKey</th>\n",
       "      <th>RegistryValueData</th>\n",
       "      <th>ApplicationName</th>\n",
       "      <th>OAuthApplicationId</th>\n",
       "      <th>FileName</th>\n",
       "      <th>ResourceIdName</th>\n",
       "      <th>OSVersion</th>\n",
       "      <th>City</th>\n",
       "      <th>Day</th>\n",
       "      <th>Year</th>\n",
       "      <th>Hour</th>\n",
       "      <th>Time</th>\n",
       "    </tr>\n",
       "  </thead>\n",
       "  <tbody>\n",
       "    <tr>\n",
       "      <th>0</th>\n",
       "      <td>1245540519230</td>\n",
       "      <td>657</td>\n",
       "      <td>11767</td>\n",
       "      <td>87199</td>\n",
       "      <td>524</td>\n",
       "      <td>563</td>\n",
       "      <td>11</td>\n",
       "      <td>0</td>\n",
       "      <td>28</td>\n",
       "      <td>0</td>\n",
       "      <td>360606</td>\n",
       "      <td>160396</td>\n",
       "      <td>863</td>\n",
       "      <td>153085</td>\n",
       "      <td>529644</td>\n",
       "      <td>1631</td>\n",
       "      <td>860</td>\n",
       "      <td>3421</td>\n",
       "      <td>881</td>\n",
       "      <td>289573</td>\n",
       "      <td>3586</td>\n",
       "      <td>66</td>\n",
       "      <td>10630</td>\n",
       "      <td>4</td>\n",
       "      <td>2024</td>\n",
       "      <td>22</td>\n",
       "      <td>82520</td>\n",
       "    </tr>\n",
       "    <tr>\n",
       "      <th>1</th>\n",
       "      <td>1400159342154</td>\n",
       "      <td>3</td>\n",
       "      <td>91158</td>\n",
       "      <td>632273</td>\n",
       "      <td>2</td>\n",
       "      <td>2</td>\n",
       "      <td>1</td>\n",
       "      <td>0</td>\n",
       "      <td>15</td>\n",
       "      <td>0</td>\n",
       "      <td>360606</td>\n",
       "      <td>160396</td>\n",
       "      <td>453297</td>\n",
       "      <td>2833</td>\n",
       "      <td>529644</td>\n",
       "      <td>1631</td>\n",
       "      <td>860</td>\n",
       "      <td>3421</td>\n",
       "      <td>881</td>\n",
       "      <td>289573</td>\n",
       "      <td>3586</td>\n",
       "      <td>0</td>\n",
       "      <td>10630</td>\n",
       "      <td>3</td>\n",
       "      <td>2024</td>\n",
       "      <td>12</td>\n",
       "      <td>46649</td>\n",
       "    </tr>\n",
       "    <tr>\n",
       "      <th>2</th>\n",
       "      <td>1279900255923</td>\n",
       "      <td>145</td>\n",
       "      <td>32247</td>\n",
       "      <td>131719</td>\n",
       "      <td>2932</td>\n",
       "      <td>10807</td>\n",
       "      <td>11</td>\n",
       "      <td>0</td>\n",
       "      <td>23</td>\n",
       "      <td>1</td>\n",
       "      <td>360606</td>\n",
       "      <td>160396</td>\n",
       "      <td>453297</td>\n",
       "      <td>153085</td>\n",
       "      <td>529644</td>\n",
       "      <td>1631</td>\n",
       "      <td>860</td>\n",
       "      <td>3421</td>\n",
       "      <td>881</td>\n",
       "      <td>14</td>\n",
       "      <td>3586</td>\n",
       "      <td>66</td>\n",
       "      <td>10630</td>\n",
       "      <td>8</td>\n",
       "      <td>2024</td>\n",
       "      <td>3</td>\n",
       "      <td>12037</td>\n",
       "    </tr>\n",
       "    <tr>\n",
       "      <th>3</th>\n",
       "      <td>60129547292</td>\n",
       "      <td>222</td>\n",
       "      <td>15294</td>\n",
       "      <td>917686</td>\n",
       "      <td>0</td>\n",
       "      <td>0</td>\n",
       "      <td>10</td>\n",
       "      <td>1</td>\n",
       "      <td>7</td>\n",
       "      <td>1</td>\n",
       "      <td>360606</td>\n",
       "      <td>160396</td>\n",
       "      <td>453297</td>\n",
       "      <td>153085</td>\n",
       "      <td>529644</td>\n",
       "      <td>1631</td>\n",
       "      <td>860</td>\n",
       "      <td>3421</td>\n",
       "      <td>881</td>\n",
       "      <td>289573</td>\n",
       "      <td>3586</td>\n",
       "      <td>66</td>\n",
       "      <td>10630</td>\n",
       "      <td>12</td>\n",
       "      <td>2024</td>\n",
       "      <td>12</td>\n",
       "      <td>43594</td>\n",
       "    </tr>\n",
       "    <tr>\n",
       "      <th>4</th>\n",
       "      <td>515396080539</td>\n",
       "      <td>363</td>\n",
       "      <td>7615</td>\n",
       "      <td>5944</td>\n",
       "      <td>27</td>\n",
       "      <td>18</td>\n",
       "      <td>5</td>\n",
       "      <td>0</td>\n",
       "      <td>28</td>\n",
       "      <td>0</td>\n",
       "      <td>360606</td>\n",
       "      <td>160396</td>\n",
       "      <td>136104</td>\n",
       "      <td>153085</td>\n",
       "      <td>529644</td>\n",
       "      <td>1631</td>\n",
       "      <td>860</td>\n",
       "      <td>3421</td>\n",
       "      <td>881</td>\n",
       "      <td>289573</td>\n",
       "      <td>3586</td>\n",
       "      <td>66</td>\n",
       "      <td>10630</td>\n",
       "      <td>6</td>\n",
       "      <td>2024</td>\n",
       "      <td>17</td>\n",
       "      <td>63665</td>\n",
       "    </tr>\n",
       "  </tbody>\n",
       "</table>\n",
       "</div>"
      ],
      "text/plain": [
       "              Id  OrgId  IncidentId  AlertId  DetectorId  AlertTitle  \\\n",
       "0  1245540519230    657       11767    87199         524         563   \n",
       "1  1400159342154      3       91158   632273           2           2   \n",
       "2  1279900255923    145       32247   131719        2932       10807   \n",
       "3    60129547292    222       15294   917686           0           0   \n",
       "4   515396080539    363        7615     5944          27          18   \n",
       "\n",
       "   Category  IncidentGrade  EntityType  EvidenceRole  IpAddress     Url  \\\n",
       "0        11              0          28             0     360606  160396   \n",
       "1         1              0          15             0     360606  160396   \n",
       "2        11              0          23             1     360606  160396   \n",
       "3        10              1           7             1     360606  160396   \n",
       "4         5              0          28             0     360606  160396   \n",
       "\n",
       "   AccountName  DeviceName  NetworkMessageId  RegistryKey  RegistryValueData  \\\n",
       "0          863      153085            529644         1631                860   \n",
       "1       453297        2833            529644         1631                860   \n",
       "2       453297      153085            529644         1631                860   \n",
       "3       453297      153085            529644         1631                860   \n",
       "4       136104      153085            529644         1631                860   \n",
       "\n",
       "   ApplicationName  OAuthApplicationId  FileName  ResourceIdName  OSVersion  \\\n",
       "0             3421                 881    289573            3586         66   \n",
       "1             3421                 881    289573            3586          0   \n",
       "2             3421                 881        14            3586         66   \n",
       "3             3421                 881    289573            3586         66   \n",
       "4             3421                 881    289573            3586         66   \n",
       "\n",
       "    City  Day  Year  Hour   Time  \n",
       "0  10630    4  2024    22  82520  \n",
       "1  10630    3  2024    12  46649  \n",
       "2  10630    8  2024     3  12037  \n",
       "3  10630   12  2024    12  43594  \n",
       "4  10630    6  2024    17  63665  "
      ]
     },
     "execution_count": 25,
     "metadata": {},
     "output_type": "execute_result"
    }
   ],
   "source": [
    "# Loading test data\n",
    "test_data = pd.read_csv('testdata_processed.csv')\n",
    "test_data.head()"
   ]
  },
  {
   "cell_type": "code",
   "execution_count": 26,
   "metadata": {},
   "outputs": [],
   "source": [
    "# Selecting only top 11 features and setting features and target\n",
    "X_test_top11 = test_data[top_11_features] \n",
    "y_test = test_data['IncidentGrade']"
   ]
  },
  {
   "cell_type": "code",
   "execution_count": 27,
   "metadata": {},
   "outputs": [
    {
     "name": "stdout",
     "output_type": "stream",
     "text": [
      "Test Set Classification Report (Top 11 Features):\n",
      "              precision    recall  f1-score   support\n",
      "\n",
      "     Class 0       0.94      0.82      0.88   1752895\n",
      "     Class 1       0.72      0.92      0.81    902664\n",
      "     Class 2       0.92      0.90      0.91   1492329\n",
      "\n",
      "    accuracy                           0.87   4147888\n",
      "   macro avg       0.86      0.88      0.87   4147888\n",
      "weighted avg       0.89      0.87      0.87   4147888\n",
      "\n"
     ]
    }
   ],
   "source": [
    "# Predicting on the test set using the best model\n",
    "y_test_pred_top11 = best_xgb_top11.predict(X_test_top11)\n",
    "\n",
    "# Evaluate performance on test data\n",
    "print(\"Test Set Classification Report (Top 11 Features):\")\n",
    "print(classification_report(y_test, y_test_pred_top11, target_names=['Class 0', 'Class 1', 'Class 2']))"
   ]
  },
  {
   "cell_type": "markdown",
   "metadata": {},
   "source": [
    "# Without Using Smote "
   ]
  },
  {
   "cell_type": "code",
   "execution_count": 28,
   "metadata": {},
   "outputs": [
    {
     "name": "stdout",
     "output_type": "stream",
     "text": [
      "Validation Set Classification Report without smote:\n",
      "              precision    recall  f1-score   support\n",
      "\n",
      "     Class 0       0.89      0.96      0.92    592183\n",
      "     Class 1       0.93      0.85      0.89    298350\n",
      "     Class 2       0.95      0.91      0.93    482687\n",
      "\n",
      "    accuracy                           0.92   1373220\n",
      "   macro avg       0.92      0.91      0.91   1373220\n",
      "weighted avg       0.92      0.92      0.92   1373220\n",
      "\n"
     ]
    }
   ],
   "source": [
    "# Train the XGBoost model\n",
    "xgb = XGBClassifier(random_state=42,tree_method='hist',device='cuda')\n",
    "xgb.fit(X_train_sample, y_train_sample)\n",
    "\n",
    "# Predict on the validation set\n",
    "y_val_pred = xgb.predict(X_val)\n",
    "\n",
    "# Evaluate performance\n",
    "print(\"Validation Set Classification Report without smote:\")\n",
    "print(classification_report(y_val, y_val_pred, target_names=['Class 0', 'Class 1', 'Class 2']))"
   ]
  },
  {
   "cell_type": "code",
   "execution_count": 29,
   "metadata": {},
   "outputs": [
    {
     "name": "stdout",
     "output_type": "stream",
     "text": [
      "Shape of training set with top features: (640836, 11)\n",
      "Shape of validation set with top features: (1373220, 11)\n"
     ]
    }
   ],
   "source": [
    "# Define top 11 features based on SHAP\n",
    "top_11_features = ['OrgId', 'IncidentId', 'AlertTitle', 'DetectorId', \n",
    "                   'AlertId', 'Category', 'Hour', 'Time', 'Day', 'EntityType', 'City']\n",
    "\n",
    "# Filter datasets for top 11 features\n",
    "X_train_sample_top11 = X_train_sample[top_11_features]\n",
    "X_val_top11 = X_val[top_11_features]\n",
    "\n",
    "# Verify shapes\n",
    "print(\"Shape of training set with top features:\", X_train_sample_top11.shape)\n",
    "print(\"Shape of validation set with top features:\", X_val_top11.shape)"
   ]
  },
  {
   "cell_type": "markdown",
   "metadata": {},
   "source": [
    "### Training XGB with only top 11 features on original dataset"
   ]
  },
  {
   "cell_type": "code",
   "execution_count": 30,
   "metadata": {},
   "outputs": [
    {
     "name": "stdout",
     "output_type": "stream",
     "text": [
      "Validation Set Classification Report (Top 11 Features):\n",
      "              precision    recall  f1-score   support\n",
      "\n",
      "     Class 0       0.90      0.96      0.93    592183\n",
      "     Class 1       0.93      0.87      0.90    298350\n",
      "     Class 2       0.95      0.92      0.93    482687\n",
      "\n",
      "    accuracy                           0.92   1373220\n",
      "   macro avg       0.93      0.91      0.92   1373220\n",
      "weighted avg       0.93      0.92      0.92   1373220\n",
      "\n"
     ]
    }
   ],
   "source": [
    "# Train the XGBoost model with top features\n",
    "xgb_top11 = XGBClassifier(random_state=42,tree_method='hist',device='cuda')\n",
    "xgb_top11.fit(X_train_sample_top11, y_train_sample)\n",
    "\n",
    "# Predict on the validation set\n",
    "y_val_pred_top11 = xgb_top11.predict(X_val_top11)\n",
    "\n",
    "# Evaluate performance\n",
    "\n",
    "print(\"Validation Set Classification Report (Top 11 Features):\")\n",
    "print(classification_report(y_val, y_val_pred_top11, target_names=['Class 0', 'Class 1', 'Class 2']))"
   ]
  },
  {
   "cell_type": "markdown",
   "metadata": {},
   "source": [
    "### Hyperparameter Tuning "
   ]
  },
  {
   "cell_type": "code",
   "execution_count": 31,
   "metadata": {},
   "outputs": [
    {
     "name": "stdout",
     "output_type": "stream",
     "text": [
      "Fitting 3 folds for each of 20 candidates, totalling 60 fits\n"
     ]
    },
    {
     "name": "stderr",
     "output_type": "stream",
     "text": [
      "[22:46:01] WARNING: C:\\buildkite-agent\\builds\\buildkite-windows-cpu-autoscaling-group-i-0015a694724fa8361-1\\xgboost\\xgboost-ci-windows\\src\\learner.cc:740: \n",
      "Parameters: { \"scale_pos_weight\" } are not used.\n",
      "\n"
     ]
    },
    {
     "name": "stdout",
     "output_type": "stream",
     "text": [
      "Best Parameters: {'subsample': 1.0, 'scale_pos_weight': 3, 'n_estimators': 300, 'max_depth': 7, 'learning_rate': 0.1, 'colsample_bytree': 0.8}\n",
      "Validation Set Classification Report (Tuned Top 11 Features):\n",
      "              precision    recall  f1-score   support\n",
      "\n",
      "     Class 0       0.92      0.96      0.94    592183\n",
      "     Class 1       0.94      0.88      0.91    298350\n",
      "     Class 2       0.95      0.93      0.94    482687\n",
      "\n",
      "    accuracy                           0.93   1373220\n",
      "   macro avg       0.94      0.92      0.93   1373220\n",
      "weighted avg       0.93      0.93      0.93   1373220\n",
      "\n"
     ]
    }
   ],
   "source": [
    "# Define hyperparameter grid\n",
    "param_distributions = {\n",
    "    'max_depth': [3, 5, 7],\n",
    "    'n_estimators': [100, 200, 300],\n",
    "    'learning_rate': [0.01, 0.1, 0.2],\n",
    "    'subsample': [0.8, 1.0],\n",
    "    'colsample_bytree': [0.8, 1.0],\n",
    "    'scale_pos_weight': [1, 2, 3]  # To address class imbalance further\n",
    "}\n",
    "\n",
    "# Randomized search\n",
    "random_search_top11 = RandomizedSearchCV(\n",
    "    estimator=XGBClassifier(random_state=42,\n",
    "                            tree_method='hist',  # Enable GPU support\n",
    "                            device='cuda'  # Use GPU for predictions\n",
    "                           ),\n",
    "    param_distributions=param_distributions,\n",
    "    scoring='f1_macro',\n",
    "    cv=3,\n",
    "    n_iter=20,  # Number of random combinations\n",
    "    verbose=1,\n",
    "    n_jobs=-1\n",
    ")\n",
    "\n",
    "# Perform hyperparameter tuning\n",
    "random_search_top11.fit(X_train_sample_top11, y_train_sample)\n",
    "\n",
    "# Get the best model\n",
    "best_xgb_top11 = random_search_top11.best_estimator_\n",
    "print(\"Best Parameters:\", random_search_top11.best_params_)\n",
    "\n",
    "# Evaluate on validation set\n",
    "y_val_pred_best_top11 = best_xgb_top11.predict(X_val_top11)\n",
    "print(\"Validation Set Classification Report (Tuned Top 11 Features):\")\n",
    "print(classification_report(y_val, y_val_pred_best_top11, target_names=['Class 0', 'Class 1', 'Class 2']))"
   ]
  },
  {
   "cell_type": "code",
   "execution_count": 32,
   "metadata": {},
   "outputs": [
    {
     "name": "stdout",
     "output_type": "stream",
     "text": [
      "Model saved as best_XGB_Classification_model_without_SMOTE.pkl\n"
     ]
    }
   ],
   "source": [
    "import joblib\n",
    "\n",
    "# Save the model\n",
    "joblib.dump(best_xgb_top11, 'best_XGB_Classification_model_without_SMOTE.pkl')\n",
    "print(\"Model saved as best_XGB_Classification_model_without_SMOTE.pkl\")"
   ]
  },
  {
   "cell_type": "markdown",
   "metadata": {},
   "source": [
    "## Final Evaluation on Test Set"
   ]
  },
  {
   "cell_type": "code",
   "execution_count": 33,
   "metadata": {},
   "outputs": [
    {
     "name": "stdout",
     "output_type": "stream",
     "text": [
      "Test Set Classification Report (Top 11 Features):\n",
      "              precision    recall  f1-score   support\n",
      "\n",
      "     Class 0       0.89      0.93      0.91   1752895\n",
      "     Class 1       0.89      0.84      0.86    902664\n",
      "     Class 2       0.93      0.91      0.92   1492329\n",
      "\n",
      "    accuracy                           0.90   4147888\n",
      "   macro avg       0.90      0.89      0.90   4147888\n",
      "weighted avg       0.90      0.90      0.90   4147888\n",
      "\n"
     ]
    }
   ],
   "source": [
    "# Predict on the test set\n",
    "y_test_pred_top11 = best_xgb_top11.predict(X_test_top11)\n",
    "\n",
    "# Evaluate performance on test data\n",
    "print(\"Test Set Classification Report (Top 11 Features):\")\n",
    "print(classification_report(y_test, y_test_pred_top11, target_names=['Class 0', 'Class 1', 'Class 2']))"
   ]
  }
 ],
 "metadata": {
  "kernelspec": {
   "display_name": "Python 3",
   "language": "python",
   "name": "python3"
  },
  "language_info": {
   "codemirror_mode": {
    "name": "ipython",
    "version": 3
   },
   "file_extension": ".py",
   "mimetype": "text/x-python",
   "name": "python",
   "nbconvert_exporter": "python",
   "pygments_lexer": "ipython3",
   "version": "3.8.5"
  }
 },
 "nbformat": 4,
 "nbformat_minor": 4
}
